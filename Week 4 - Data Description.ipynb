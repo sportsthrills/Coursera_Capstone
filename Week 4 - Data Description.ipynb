{
    "cells": [
        {
            "cell_type": "markdown",
            "metadata": {
                "collapsed": true
            },
            "source": "# The Battle of the Neighborhoods - Data Description"
        },
        {
            "cell_type": "markdown",
            "metadata": {},
            "source": "I will use the Wikipedia link: https://en.wikipedia.org/wiki/List_of_postal_codes_of_Canada:_M that we used in Week 3, and I will fetch the Sacrborough data from this"
        },
        {
            "cell_type": "markdown",
            "metadata": {},
            "source": "# How Foursquare API will be used"
        },
        {
            "cell_type": "markdown",
            "metadata": {},
            "source": "We will use the Foursquare API to look for venues in Scarborough and for these details specifically:\nNeighborhood, "
        }
    ],
    "metadata": {
        "kernelspec": {
            "display_name": "Python 3.6",
            "language": "python",
            "name": "python3"
        },
        "language_info": {
            "codemirror_mode": {
                "name": "ipython",
                "version": 3
            },
            "file_extension": ".py",
            "mimetype": "text/x-python",
            "name": "python",
            "nbconvert_exporter": "python",
            "pygments_lexer": "ipython3",
            "version": "3.6.8"
        }
    },
    "nbformat": 4,
    "nbformat_minor": 1
}