{
    "cells": [
        {
            "metadata": {
                "collapsed": true
            },
            "cell_type": "markdown",
            "source": "# The Battle of the Neighborhoods Business Proposal - Introduction\n"
        },
        {
            "metadata": {},
            "cell_type": "markdown",
            "source": "# Introduction"
        },
        {
            "metadata": {},
            "cell_type": "markdown",
            "source": "The purpose of this Project is to help people find better facilities that they can use in their neighborhood in Scarborough, Toronto, the place in Toronto which I have chosen to do this research.\n\nThe goal of this project is to show people the way for them to better find places in Scarborough where they can live. The research will go into details on things such as Median Housing Prices, Schools based on online ratings, weather, and much more features that will make Scarborough the place where people want to move to and live."
        },
        {
            "metadata": {},
            "cell_type": "markdown",
            "source": "# Problem that We are Solving"
        },
        {
            "metadata": {},
            "cell_type": "markdown",
            "source": "The biggest goal of this project is to make people want to move to Scarborough in a fast, easy, and worry-free way. The main things that will be shown and sorted out are:\n    Housing prices in both increasing and decreasing price orders AND\n    Schools based on ratings, location, and proximity to your home"
        },
        {
            "metadata": {},
            "cell_type": "markdown",
            "source": "# Foursquare API"
        },
        {
            "metadata": {},
            "cell_type": "markdown",
            "source": "The Foursquare API will be vital for location data, especially since Scarborough is a popular place for people to move into, as it is in the Greater Toronto Area."
        },
        {
            "metadata": {},
            "cell_type": "markdown",
            "source": "# Libraries that I will use"
        },
        {
            "metadata": {},
            "cell_type": "markdown",
            "source": "Pandas, Folium, Scikit Learn, JSON, XML, Geocoder, Beautiful Soup and Requests, and Matplotlib"
        },
        {
            "metadata": {},
            "cell_type": "code",
            "source": "",
            "execution_count": null,
            "outputs": []
        },
        {
            "metadata": {},
            "cell_type": "code",
            "source": "",
            "execution_count": null,
            "outputs": []
        }
    ],
    "metadata": {
        "kernelspec": {
            "name": "python3",
            "display_name": "Python 3.6",
            "language": "python"
        },
        "language_info": {
            "name": "python",
            "version": "3.6.8",
            "mimetype": "text/x-python",
            "codemirror_mode": {
                "name": "ipython",
                "version": 3
            },
            "pygments_lexer": "ipython3",
            "nbconvert_exporter": "python",
            "file_extension": ".py"
        }
    },
    "nbformat": 4,
    "nbformat_minor": 1
}