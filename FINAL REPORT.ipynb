{
    "cells": [
        {
            "metadata": {
                "collapsed": true
            },
            "cell_type": "markdown",
            "source": "# The Battle of the Neighborhoods Business Proposal - Final Report"
        },
        {
            "metadata": {},
            "cell_type": "markdown",
            "source": "# 1. Introduction:\nThe purpose of this Project is to help people find better facilities that they can use in their neighborhood in Scarborough, Toronto, the place in Toronto which I have chosen to do this research.\n\nThe goal of this project is to show people the way for them to better find places in Scarborough where they can live. The research will go into details on things such as Median Housing Prices, Schools based on online ratings, weather, and much more features that will make Scarborough the place where people want to move to and live."
        },
        {
            "metadata": {},
            "cell_type": "markdown",
            "source": "# Problem that We are Solving\nThe biggest goal of this project is to make people want to move to Scarborough in a fast, easy, and worry-free way. The main things that will be shown and sorted out are: Housing prices in both increasing and decreasing price orders AND Schools based on ratings, location, and proximity to your home"
        },
        {
            "metadata": {},
            "cell_type": "markdown",
            "source": "# Foursquare API\nThe Foursquare API will be vital for location data, especially since Scarborough is a popular place for people to move into, as it is in the Greater Toronto Area."
        },
        {
            "metadata": {},
            "cell_type": "markdown",
            "source": "# Libraries that I Used\nPandas, Folium, Scikit Learn, JSON, XML, Geocoder, Beautiful Soup and Requests, and Matplotlib"
        },
        {
            "metadata": {},
            "cell_type": "markdown",
            "source": "# 2. Data Section:\nI used the Wikipedia link: https://en.wikipedia.org/wiki/List_of_postal_codes_of_Canada:_M that we used in Week 3, and I will fetch the Sacrborough data from this\nHow Foursquare API will be used\nI used the Foursquare API to look for venues in Scarborough and for these details specifically: Neighborhood, Latitude/Longitude, Venue, Name of the venue (can be store or restaurant), Categories"
        },
        {
            "metadata": {},
            "cell_type": "markdown",
            "source": "# 3. Methodology Section:\nIn order to show that Toronto is a big and diverse city with many neighborhoods, I compared its neighborhoods to those in New York City using k-means clustering and found common venues amongest those neighborhoods. \n\nI also used the credentials of FOursquare API for finding data on these nearby neighborhoods."
        },
        {
            "metadata": {},
            "cell_type": "markdown",
            "source": "# 4. Results Section:\nI chose Scarborough in Toronto because it is a popular destination for people to move to within Canada, esepcially being in the Greater Toronto Area. As a result, I used the clustering from Foursquare API to find the best schools, average price of housing, and even map out clusters in Scarborough."
        },
        {
            "metadata": {},
            "cell_type": "markdown",
            "source": "# 5. Discussion Section\nThe problem that I solved was that of finding a neighborhood in the Toronto area which could satisfy the needs of those looking for new homes. "
        },
        {
            "metadata": {},
            "cell_type": "markdown",
            "source": "# 6. Conclusion Section:\nUsing the k-means algorithm helped me separate "
        }
    ],
    "metadata": {
        "kernelspec": {
            "name": "python3",
            "display_name": "Python 3.6",
            "language": "python"
        },
        "language_info": {
            "name": "python",
            "version": "3.6.8",
            "mimetype": "text/x-python",
            "codemirror_mode": {
                "name": "ipython",
                "version": 3
            },
            "pygments_lexer": "ipython3",
            "nbconvert_exporter": "python",
            "file_extension": ".py"
        }
    },
    "nbformat": 4,
    "nbformat_minor": 1
}